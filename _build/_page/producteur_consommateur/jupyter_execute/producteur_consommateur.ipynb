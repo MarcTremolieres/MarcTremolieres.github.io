{
 "cells": [
  {
   "cell_type": "markdown",
   "id": "bda668de-3bfc-4f16-b2ea-e2ad91407655",
   "metadata": {},
   "source": [
    "# Terminale NSI : Le problème du producteur et du consommateur"
   ]
  },
  {
   "cell_type": "markdown",
   "id": "28b14df8-030f-4109-a122-d22498d450ba",
   "metadata": {},
   "source": [
    "## Introduction"
   ]
  },
  {
   "cell_type": "markdown",
   "id": "a532cc35-f53c-441f-960d-42121a9f0f78",
   "metadata": {},
   "source": [
    "Dans ce problème classique de programmation concurrente on considère 3 éléments :\n",
    "- Un tampon de stockage (_buffer_) dans lequel on peut écrire, lire ou supprimer des données.\n",
    "- Un producteur, qui est un _thread_ qui écrit des données dans le tampon tant qu'il n'est pas plein.\n",
    "- Un consommateur, qui est un _thread_ qui lit et supprimme des données du tampon."
   ]
  },
  {
   "cell_type": "markdown",
   "id": "5f14c082-9410-418d-a9dd-37699a897adb",
   "metadata": {},
   "source": [
    "Il est important de noter que le producteur et le consommateur sont des _threads_ et n'interviennent donc pas de façon synchronisée.<br>\n",
    "<br>\n",
    "\n",
    "![](producer-consumer.png)\n",
    "\n",
    "<br>"
   ]
  },
  {
   "cell_type": "markdown",
   "id": "f26014b6-a7fb-452f-bd13-7f22ed04f311",
   "metadata": {},
   "source": [
    "## Modèle élémentaire"
   ]
  },
  {
   "cell_type": "markdown",
   "id": "6422b876-fb07-45d8-9c7f-98f3eb332fdc",
   "metadata": {},
   "source": [
    "### Base\n",
    "- Le tampon est une liste python partagée comme variable globale.\n",
    "- Le producteur est une fonction qui écrit dans le tampon des nombres entiers aléatoires. Cette fonction admet un paramètre qui est la taille maximale du tampon. A chaque écriture le tampon est affiché\n",
    "- Le consommateur est une fonction qui supprimme et affiche le dernier élément du tampon, sauf si il est vide."
   ]
  },
  {
   "cell_type": "code",
   "execution_count": 1,
   "id": "9011d29c-7342-4f12-98b2-f9ce4b8fdcbd",
   "metadata": {},
   "outputs": [],
   "source": [
    "from threading import Thread\n",
    "from random import randint\n",
    "\n",
    "def producteur(n):\n",
    "    \"A compléter\"\n",
    "    global tampon\n",
    "    pass\n",
    "\n",
    "def consommateur():\n",
    "    \"A compléter\"\n",
    "    global tampon\n",
    "    pass\n",
    "\n",
    "tampon = []\n",
    "produit = Thread(target = producteur, args = [10])\n",
    "consomme = Thread(target = consommateur)\n",
    "produit.start()\n",
    "consomme.start()"
   ]
  },
  {
   "cell_type": "markdown",
   "id": "52671015-2867-40f0-9e1b-5af49a4de28f",
   "metadata": {},
   "source": [
    "### Temporisation\n",
    "- Améliorer le résultat en ajoutant une pause ( _sleep_ ) dans chaque thread.\n",
    "- Étudier l'influence des temps de pause sur la taille du tampon\n",
    "- Simuler un situation plus réaliste avec des temps de pause aléatoires."
   ]
  },
  {
   "cell_type": "markdown",
   "id": "2b8dbee3-bb7f-428f-bf08-bb15b5ce492b",
   "metadata": {},
   "source": [
    "### Verrouillage en lecture-écriture\n",
    "Avec le programme actuel il est possible que les deux threads interviennent en même temps sur le tampon, provoquant un résultat incohérent.<br>\n",
    "Corriger ce problème en utilisant un verrou global _operation_ autour des opérations de lecture-écriture sur le tampon. "
   ]
  },
  {
   "cell_type": "markdown",
   "id": "bdbc7e79-f626-4601-8e12-b26107e5f2f0",
   "metadata": {},
   "source": [
    "## Synchronisation des threads"
   ]
  },
  {
   "cell_type": "markdown",
   "id": "e2facb6f-3566-40a0-b1e8-35d98a1b99de",
   "metadata": {},
   "source": [
    "### Position du problème\n",
    "- Avec le programme actuel les deux threads exécutent une boucle infinie en vérifiant à chaque fois si il est possible d'écrire ou de lire sur le tampon.<br>\n",
    "- Si par exemple le tampon est plein le producteur utilise tout son temps de CPU à vérifier qu'il est toujours plein.<br>\n",
    "- C'est la situation d'attente active ( _busy-wait_).\n",
    "- L'inconvénient est de consommer du temps de CPU à la place d'être en sommeil.\n"
   ]
  },
  {
   "cell_type": "markdown",
   "id": "c41ee5a1-c7db-44c8-b579-e0509f05f1c0",
   "metadata": {},
   "source": [
    "### Utilisation d'un verrou de synchronisation\n",
    "- On va utiliser un verrou _plein_ pour signifier que le tampon est plein.\n",
    "- Le producteur tentera d'abord d'acquérir le verrou _plein_. <br>\n",
    "    - Si il y parvient c'est que le tampon n'est pas plein. Il peut alors écrire et relâcher ou non le verrou ( selon que le tampon est plein ou pas ).\n",
    "    - Si il n'y parvient pas c'est que le tampon est plein et il reste en attente sans consommer de temps CPU.\n",
    "- Le consommateur testera le verrou _plein_ à chaque itération. Si il est verrouillé il sera alors relâché."
   ]
  },
  {
   "cell_type": "markdown",
   "id": "d2e74808-efa4-4416-9242-02cb69c86141",
   "metadata": {},
   "source": [
    "Modifier le programme précédent pour implémenter cette technique."
   ]
  },
  {
   "cell_type": "markdown",
   "id": "d8f2a109-5d75-4748-bff8-719dbbe74c9e",
   "metadata": {},
   "source": [
    "### Perfectionnement\n",
    "Adapter la méthode précédente avec un verrou _vide_ pour éviter l'état d'attente active du consommateur lorsque le tampon est vide."
   ]
  },
  {
   "cell_type": "markdown",
   "id": "d68b5d09-ce89-421f-942b-dd3bafcbc5b8",
   "metadata": {},
   "source": [
    "## Exercices"
   ]
  },
  {
   "cell_type": "markdown",
   "id": "0ed5c847-87c5-4deb-bff6-2cf9879e9c39",
   "metadata": {},
   "source": [
    "### Exercice 1"
   ]
  },
  {
   "cell_type": "markdown",
   "id": "b03a83b3-b83c-4a69-9a34-dc26f1964c1c",
   "metadata": {},
   "source": [
    "- On suppose maintenant que le consommateur ne peut consommer que lorsque le tampon est plein.\n",
    "- Le consommateur vide alors entièrement le tampon.\n",
    "- Adapter le programme précédent en synchronisant 2 threads qui réalisent cette situation."
   ]
  },
  {
   "cell_type": "markdown",
   "id": "2f5887de-2180-41c1-9c94-1897c8a1f4ff",
   "metadata": {},
   "source": [
    "### Exercice 2"
   ]
  },
  {
   "cell_type": "markdown",
   "id": "438e0b1e-3efc-454e-a3a0-c6e099590378",
   "metadata": {},
   "source": [
    "- Un thread écrit les nombres entiers consécutifs dans une variable globale.\n",
    "- Un thread affiche en boucle la valeur de cette variable globale.\n",
    "- Synchroniser les deux threads pour que chaque nombre soit affiché une fois et une seule."
   ]
  }
 ],
 "metadata": {
  "kernelspec": {
   "display_name": "Python 3 (ipykernel)",
   "language": "python",
   "name": "python3"
  },
  "language_info": {
   "codemirror_mode": {
    "name": "ipython",
    "version": 3
   },
   "file_extension": ".py",
   "mimetype": "text/x-python",
   "name": "python",
   "nbconvert_exporter": "python",
   "pygments_lexer": "ipython3",
   "version": "3.9.12"
  }
 },
 "nbformat": 4,
 "nbformat_minor": 5
}